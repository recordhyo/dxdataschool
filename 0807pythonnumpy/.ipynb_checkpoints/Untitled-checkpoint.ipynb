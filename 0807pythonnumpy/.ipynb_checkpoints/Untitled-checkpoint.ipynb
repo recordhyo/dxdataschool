{
 "cells": [
  {
   "cell_type": "markdown",
   "id": "d1e41eda",
   "metadata": {},
   "source": [
    "# 데이터분석"
   ]
  },
  {
   "cell_type": "markdown",
   "id": "26798c1d",
   "metadata": {},
   "source": [
    "## numpy 속도 비교"
   ]
  },
  {
   "cell_type": "code",
   "execution_count": 2,
   "id": "070fa5f3",
   "metadata": {},
   "outputs": [],
   "source": [
    "import numpy as np\n",
    "import datetime"
   ]
  },
  {
   "cell_type": "code",
   "execution_count": 6,
   "id": "bf72478c",
   "metadata": {},
   "outputs": [
    {
     "name": "stdout",
     "output_type": "stream",
     "text": [
      "시작시간 :  2023-08-07 15:26:47.552038\n",
      "끝나는 시간 :  2023-08-07 15:26:47.616299\n"
     ]
    }
   ],
   "source": [
    "#list 생성\n",
    "li = range(1, 1000000)\n",
    "\n",
    "#현재 시간 저장\n",
    "s = datetime.datetime.now()\n",
    "print(\"시작시간 : \", s)\n",
    "\n",
    "#모든 요소에 10곱해서 리스트 수정\n",
    "for i in li :\n",
    "    i = i*10\n",
    "    \n",
    "#현재 시간 저장\n",
    "s = datetime.datetime.now()\n",
    "print(\"끝나는 시간 : \", s)"
   ]
  },
  {
   "cell_type": "code",
   "execution_count": 7,
   "id": "b822dc70",
   "metadata": {},
   "outputs": [
    {
     "name": "stdout",
     "output_type": "stream",
     "text": [
      "시작시간 :  2023-08-07 15:26:50.226463\n",
      "끝나는 시간 :  2023-08-07 15:26:50.229460\n"
     ]
    }
   ],
   "source": [
    "ar = np.arange(1, 1000000)\n",
    "s = datetime.datetime.now()\n",
    "print(\"시작시간 : \", s)\n",
    "ar = ar * 10\n",
    "s = datetime.datetime.now()\n",
    "print(\"끝나는 시간 : \", s)"
   ]
  },
  {
   "cell_type": "code",
   "execution_count": null,
   "id": "12fb31dc",
   "metadata": {},
   "outputs": [],
   "source": []
  },
  {
   "cell_type": "code",
   "execution_count": 10,
   "id": "36fb01dc",
   "metadata": {},
   "outputs": [
    {
     "name": "stdout",
     "output_type": "stream",
     "text": [
      "<class 'numpy.ndarray'>\n",
      "int32\n",
      "1\n",
      "(3,)\n"
     ]
    }
   ],
   "source": [
    "#배열 정보 확인\n",
    "ar = np.array([1,2,3])\n",
    "print(type(ar)) #ar의 자료형\n",
    "print(ar.dtype) #ar에 저장된 요소의 자료형\n",
    "print(ar.ndim) #배열의 차원 - 일차원 배열\n",
    "print(ar.shape) #3개의 행으로 구성"
   ]
  },
  {
   "cell_type": "code",
   "execution_count": 11,
   "id": "d98a1d99",
   "metadata": {},
   "outputs": [
    {
     "name": "stdout",
     "output_type": "stream",
     "text": [
      "2\n",
      "(2, 3)\n"
     ]
    }
   ],
   "source": [
    "#2차원 배열\n",
    "ar = np.array([[1,2,3],[4,5,6]])\n",
    "print(ar.ndim) #배열의 차원 - 2차원 배열\n",
    "print(ar.shape) #2행 3열"
   ]
  },
  {
   "cell_type": "code",
   "execution_count": 13,
   "id": "306666fe",
   "metadata": {},
   "outputs": [
    {
     "name": "stdout",
     "output_type": "stream",
     "text": [
      "[ 1  3  5  7  9 11 13 15 17 19 21 23 25 27 29]\n",
      "[  1.  12.  23.  34.  45.  56.  67.  78.  89. 100.]\n"
     ]
    }
   ],
   "source": [
    "ar = np.arange(1,30,2)\n",
    "print(ar)\n",
    "ar = np.linspace(1, 100, num=10) #num은 개수\n",
    "print(ar)"
   ]
  },
  {
   "cell_type": "code",
   "execution_count": 14,
   "id": "877a0d69",
   "metadata": {},
   "outputs": [
    {
     "name": "stdout",
     "output_type": "stream",
     "text": [
      "[[1. 0. 0. 0. 0.]\n",
      " [0. 1. 0. 0. 0.]\n",
      " [0. 0. 1. 0. 0.]\n",
      " [0. 0. 0. 1. 0.]\n",
      " [0. 0. 0. 0. 1.]]\n",
      "[[0. 1. 0. 0. 0.]\n",
      " [0. 0. 1. 0. 0.]\n",
      " [0. 0. 0. 1. 0.]\n",
      " [0. 0. 0. 0. 1.]\n",
      " [0. 0. 0. 0. 0.]]\n"
     ]
    }
   ],
   "source": [
    "#eye - 대각선 방향으로 1 채운 행렬\n",
    "ar = np.eye(5)\n",
    "print(ar)\n",
    "ar = np.eye(5, k=1)\n",
    "print(ar)"
   ]
  },
  {
   "cell_type": "code",
   "execution_count": 19,
   "id": "c87cb6e2",
   "metadata": {},
   "outputs": [
    {
     "name": "stdout",
     "output_type": "stream",
     "text": [
      "[ 1  9 17]\n",
      "[ 3 11]\n"
     ]
    }
   ],
   "source": [
    "#diag - 대각 요소만 뽑아서 배열을 생성\n",
    "ar = np.array([[1,3,5],[7,9,11],[13,15,17]])\n",
    "br = np.diag(ar)\n",
    "print(br)\n",
    "br = np.diag(ar,k=1)\n",
    "print(br)"
   ]
  },
  {
   "cell_type": "code",
   "execution_count": 20,
   "id": "7d937bb5",
   "metadata": {},
   "outputs": [
    {
     "name": "stdout",
     "output_type": "stream",
     "text": [
      "[1 2 3]\n",
      "[1. 2. 3.]\n"
     ]
    }
   ],
   "source": [
    "#자료형 지정해서 생성\n",
    "ar = np.array([1,2,'3'], dtype=np.int32)\n",
    "print(ar)\n",
    "br = ar.astype(np.float32)\n",
    "print(br)"
   ]
  },
  {
   "cell_type": "code",
   "execution_count": 22,
   "id": "756aad0f",
   "metadata": {
    "scrolled": true
   },
   "outputs": [
    {
     "name": "stdout",
     "output_type": "stream",
     "text": [
      "[[1 2 3]\n",
      " [4 5 6]\n",
      " [7 8 9]]\n",
      "2\n",
      "[1 2 3]\n",
      "[1 4 7]\n"
     ]
    }
   ],
   "source": [
    "matrix = np.array([[1,2,3],[4,5,6],[7,8,9]])\n",
    "print(matrix)\n",
    "print(matrix[0][1]) \n",
    "print(matrix[0]) #0번째 행은 열 생략해서 가능\n",
    "print(matrix[:,0]) #0번째 열은 행 생략 불가능, : 전체 표시 "
   ]
  },
  {
   "cell_type": "code",
   "execution_count": 23,
   "id": "827f32f3",
   "metadata": {
    "scrolled": true
   },
   "outputs": [
    {
     "name": "stdout",
     "output_type": "stream",
     "text": [
      "1\n",
      "1\n",
      "1004\n",
      "1\n"
     ]
    }
   ],
   "source": [
    "matrix = np.array([[1,2,3],[4,5,6],[7,8,9]])\n",
    "x= matrix[0][0]\n",
    "print(x)\n",
    "print(matrix[0][0])\n",
    "\n",
    "x = 1004\n",
    "print(x)\n",
    "print(matrix[0][0])"
   ]
  },
  {
   "cell_type": "code",
   "execution_count": 27,
   "id": "68fd9486",
   "metadata": {},
   "outputs": [
    {
     "name": "stdout",
     "output_type": "stream",
     "text": [
      "[[1 2 3]\n",
      " [4 5 6]\n",
      " [7 8 9]]\n",
      "[1 2 3]\n",
      "[1 2 3]\n",
      "[100   2   3]\n",
      "[100   2   3]\n",
      "[[100   2   3]\n",
      " [  4   5   6]\n",
      " [  7   8   9]]\n",
      "[[100   2   3]]\n",
      "[100   2   3]\n",
      "[[1004    2    3]]\n",
      "[100   2   3]\n",
      "[[100   2   3]\n",
      " [  4   5   6]\n",
      " [  7   8   9]]\n"
     ]
    }
   ],
   "source": [
    "matrix = np.array([[1,2,3],[4,5,6],[7,8,9]])\n",
    "print(matrix)\n",
    "\n",
    "ar = matrix[0]\n",
    "br = matrix[0, ]\n",
    "print(ar)\n",
    "print(br)\n",
    "\n",
    "ar[0] = 100\n",
    "print(ar)\n",
    "print(br)\n",
    "print(matrix)\n",
    "\n",
    "#list를 이용하는 인덱식 - Fancy Indexing \n",
    "cr= matrix[[0]]\n",
    "#범위를 이용하는 인덱싱 - 슬라이싱\n",
    "dr= matrix[0][:]\n",
    "print(cr)\n",
    "print(dr)\n",
    "cr[0,0] = 1004\n",
    "print(cr)\n",
    "print(dr)\n",
    "print(matrix)"
   ]
  },
  {
   "cell_type": "code",
   "execution_count": 31,
   "id": "f2d8f073",
   "metadata": {},
   "outputs": [
    {
     "name": "stdout",
     "output_type": "stream",
     "text": [
      "[4]\n"
     ]
    }
   ],
   "source": [
    "ar = np.array([1,18,3,451,5,300,7])\n",
    "br = np.array([1,2,3,4,5,6,7])\n",
    "\n",
    "#boolean indexing\n",
    "print(br[(ar%2==1) & (ar >=10)])"
   ]
  },
  {
   "cell_type": "code",
   "execution_count": null,
   "id": "2c18b8aa",
   "metadata": {},
   "outputs": [],
   "source": []
  }
 ],
 "metadata": {
  "kernelspec": {
   "display_name": "Python 3 (ipykernel)",
   "language": "python",
   "name": "python3"
  },
  "language_info": {
   "codemirror_mode": {
    "name": "ipython",
    "version": 3
   },
   "file_extension": ".py",
   "mimetype": "text/x-python",
   "name": "python",
   "nbconvert_exporter": "python",
   "pygments_lexer": "ipython3",
   "version": "3.10.9"
  }
 },
 "nbformat": 4,
 "nbformat_minor": 5
}
