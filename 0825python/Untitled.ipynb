{
 "cells": [
  {
   "cell_type": "markdown",
   "id": "768121ff",
   "metadata": {},
   "source": [
    "# 머신러닝"
   ]
  },
  {
   "cell_type": "code",
   "execution_count": 6,
   "id": "e42295c1",
   "metadata": {},
   "outputs": [],
   "source": [
    "import numpy as np\n",
    "import pandas as pd\n",
    "\n",
    "#시각화 패키지\n",
    "import matplotlib.pyplot as plt\n",
    "\n",
    "#시각화에서 한글을 사용하기 위한 설정\n",
    "import platform\n",
    "from matplotlib import font_manager, rc\n",
    "\n",
    "if platform.system() == 'Darwin':\n",
    "    rc('font', family='AppleGothic')\n",
    "#윈도우의 경우\n",
    "elif platform.system() == 'Windows':\n",
    "    font_name = font_manager.FontProperties(fname=\"c:/Windows/Fonts/malgun.ttf\").get_name()\n",
    "    rc('font', family=font_name)\n",
    "    \n",
    "#시각화에서 음수를 표현하기 위한 설정\n",
    "import matplotlib\n",
    "matplotlib.rcParams['axes.unicode_minus'] = False \n"
   ]
  },
  {
   "cell_type": "code",
   "execution_count": 8,
   "id": "ffca940c",
   "metadata": {},
   "outputs": [
    {
     "name": "stdout",
     "output_type": "stream",
     "text": [
      "   sepal_length  sepal_width  petal_length  petal_width species\n",
      "0           5.1          3.5           1.4          0.2  setosa\n",
      "1           4.9          3.0           1.4          0.2  setosa\n",
      "2           4.7          3.2           1.3          0.2  setosa\n",
      "3           4.6          3.1           1.5          0.2  setosa\n",
      "4           5.0          3.6           1.4          0.2  setosa\n",
      "<class 'pandas.core.frame.DataFrame'>\n",
      "RangeIndex: 150 entries, 0 to 149\n",
      "Data columns (total 5 columns):\n",
      " #   Column        Non-Null Count  Dtype  \n",
      "---  ------        --------------  -----  \n",
      " 0   sepal_length  150 non-null    float64\n",
      " 1   sepal_width   150 non-null    float64\n",
      " 2   petal_length  150 non-null    float64\n",
      " 3   petal_width   150 non-null    float64\n",
      " 4   species       150 non-null    object \n",
      "dtypes: float64(4), object(1)\n",
      "memory usage: 6.0+ KB\n",
      "None\n"
     ]
    }
   ],
   "source": [
    "import seaborn as sns\n",
    "iris = sns.load_dataset('iris')\n",
    "print(iris.head())\n",
    "print(iris.info())"
   ]
  },
  {
   "cell_type": "code",
   "execution_count": 9,
   "id": "711686b7",
   "metadata": {},
   "outputs": [
    {
     "name": "stdout",
     "output_type": "stream",
     "text": [
      "(150, 4)\n",
      "(150,)\n"
     ]
    }
   ],
   "source": [
    "#feature matrix와 target 분리\n",
    "X_iris = iris.drop('species', axis=1)\n",
    "y_iris = iris['species']\n",
    "print(X_iris.shape)\n",
    "print(y_iris.shape)"
   ]
  },
  {
   "cell_type": "code",
   "execution_count": 14,
   "id": "576e875a",
   "metadata": {},
   "outputs": [
    {
     "name": "stdout",
     "output_type": "stream",
     "text": [
      "LinearRegression()\n",
      "[1.9776566]\n",
      "-0.9033107255311164\n"
     ]
    },
    {
     "data": {
      "text/plain": [
       "[<matplotlib.lines.Line2D at 0x25f63c076d0>]"
      ]
     },
     "execution_count": 14,
     "metadata": {},
     "output_type": "execute_result"
    },
    {
     "data": {
      "image/png": "[encoded data removed]",
      "text/plain": [
       "<Figure size 640x480 with 1 Axes>"
      ]
     },
     "metadata": {},
     "output_type": "display_data"
    }
   ],
   "source": [
    "#선형 회귀 수행\n",
    "\n",
    "#1. 데이터 수집\n",
    "rng = np.random.RandomState(42)\n",
    "X = 10 * rng.rand(50)\n",
    "y = 2 * X - 1 + rng.randn(50)\n",
    "#plt.scatter(X,y)\n",
    "\n",
    "#2. 모델을 선택하고 인스턴스를 생성\n",
    "from sklearn.linear_model import LinearRegression\n",
    "model = LinearRegression(fit_intercept = True)\n",
    "print(model)\n",
    "\n",
    "#3. 모델 훈련\n",
    "#특징 벡터는 2차원 배열이어야 함 \n",
    "#1차원 배열을 2차원 배열로 변경하고자 하면 reshape 또는 열을 하나 추가해서 2차원으로 만들어도 됨\n",
    "\n",
    "model.fit(X[:, np.newaxis], y)\n",
    "print(model.coef_) #기울기 - slope\n",
    "print(model.intercept_) #절편 - intercept\n",
    "\n",
    "\n",
    "#4. 예측\n",
    "#예측에 사용할 데이터 생성\n",
    "X_fit = np.linspace(-1,11)\n",
    "Xfit = X_fit[:,np.newaxis]\n",
    "yfit = model.predict(Xfit)\n",
    "#print(yfit)\n",
    "plt.scatter(X,y)\n",
    "plt.plot(Xfit,yfit)"
   ]
  },
  {
   "cell_type": "code",
   "execution_count": null,
   "id": "eec8e24a",
   "metadata": {},
   "outputs": [],
   "source": []
  },
  {
   "cell_type": "markdown",
   "id": "bae9a829",
   "metadata": {},
   "source": [
    "# 숫자 이미지 분류"
   ]
  },
  {
   "cell_type": "code",
   "execution_count": null,
   "id": "3856fa69",
   "metadata": {},
   "outputs": [],
   "source": [
    "#1. 데이터 수집\n"
   ]
  }
 ],
 "metadata": {
  "kernelspec": {
   "display_name": "Python 3 (ipykernel)",
   "language": "python",
   "name": "python3"
  },
  "language_info": {
   "codemirror_mode": {
    "name": "ipython",
    "version": 3
   },
   "file_extension": ".py",
   "mimetype": "text/x-python",
   "name": "python",
   "nbconvert_exporter": "python",
   "pygments_lexer": "ipython3",
   "version": "3.10.9"
  }
 },
 "nbformat": 4,
 "nbformat_minor": 5
}
