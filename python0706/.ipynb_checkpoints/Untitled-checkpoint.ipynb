{
 "cells": [
  {
   "cell_type": "code",
   "execution_count": 1,
   "id": "43c0a022",
   "metadata": {},
   "outputs": [
    {
     "name": "stdout",
     "output_type": "stream",
     "text": [
      "['False', 'None', 'True', 'and', 'as', 'assert', 'async', 'await', 'break', 'class', 'continue', 'def', 'del', 'elif', 'else', 'except', 'finally', 'for', 'from', 'global', 'if', 'import', 'in', 'is', 'lambda', 'nonlocal', 'not', 'or', 'pass', 'raise', 'return', 'try', 'while', 'with', 'yield']\n"
     ]
    }
   ],
   "source": [
    "#키워드 확인 가능\n",
    "import keyword\n",
    "print(keyword.kwlist)"
   ]
  },
  {
   "cell_type": "code",
   "execution_count": 2,
   "id": "1c47b87a",
   "metadata": {},
   "outputs": [
    {
     "name": "stdout",
     "output_type": "stream",
     "text": [
      "['C:\\\\Users\\\\USER\\\\Documents\\\\dxschool\\\\python0706', 'C:\\\\Users\\\\USER\\\\anaconda3\\\\python310.zip', 'C:\\\\Users\\\\USER\\\\anaconda3\\\\DLLs', 'C:\\\\Users\\\\USER\\\\anaconda3\\\\lib', 'C:\\\\Users\\\\USER\\\\anaconda3', '', 'C:\\\\Users\\\\USER\\\\anaconda3\\\\lib\\\\site-packages', 'C:\\\\Users\\\\USER\\\\anaconda3\\\\lib\\\\site-packages\\\\win32', 'C:\\\\Users\\\\USER\\\\anaconda3\\\\lib\\\\site-packages\\\\win32\\\\lib', 'C:\\\\Users\\\\USER\\\\anaconda3\\\\lib\\\\site-packages\\\\Pythonwin']\n"
     ]
    }
   ],
   "source": [
    "import sys\n",
    "print(sys.path)"
   ]
  },
  {
   "cell_type": "code",
   "execution_count": 3,
   "id": "8f04d78d",
   "metadata": {},
   "outputs": [
    {
     "name": "stdout",
     "output_type": "stream",
     "text": [
      "2023 는 윤년이 아님\n"
     ]
    }
   ],
   "source": [
    "year = 2023 \n",
    "#윤년의 조건 - 둘중 하나만 true이면 true\n",
    "#1. 4의 배수이고 100의 배수가 아닌경우 \n",
    "#2. 400의 배수인 경우\n",
    "if (year%100!=0 and year%4==0) or year%400 == 0 :\n",
    "    print(year, \"는 윤년\")\n",
    "else :\n",
    "    print(year, \"는 윤년이 아님\")"
   ]
  },
  {
   "cell_type": "code",
   "execution_count": 4,
   "id": "6748d702",
   "metadata": {},
   "outputs": [
    {
     "name": "stdout",
     "output_type": "stream",
     "text": [
      "2024 는 윤년\n"
     ]
    }
   ],
   "source": [
    "year = 2024 \n",
    "#윤년의 조건 - 둘중 하나만 true이면 true\n",
    "#1. 4의 배수이고 100의 배수가 아닌경우 \n",
    "#2. 400의 배수인 경우\n",
    "if (year%4==0 and year%100!=0) or year%400 == 0  :\n",
    "    print(year, \"는 윤년\")\n",
    "else :\n",
    "    print(year, \"는 윤년이 아님\")"
   ]
  },
  {
   "cell_type": "code",
   "execution_count": 5,
   "id": "2baa9348",
   "metadata": {},
   "outputs": [
    {
     "name": "stdout",
     "output_type": "stream",
     "text": [
      "Help on built-in function print in module builtins:\n",
      "\n",
      "print(...)\n",
      "    print(value, ..., sep=' ', end='\\n', file=sys.stdout, flush=False)\n",
      "    \n",
      "    Prints the values to a stream, or to sys.stdout by default.\n",
      "    Optional keyword arguments:\n",
      "    file:  a file-like object (stream); defaults to the current sys.stdout.\n",
      "    sep:   string inserted between values, default a space.\n",
      "    end:   string appended after the last value, default a newline.\n",
      "    flush: whether to forcibly flush the stream.\n",
      "\n"
     ]
    }
   ],
   "source": [
    "help(print)"
   ]
  },
  {
   "cell_type": "code",
   "execution_count": 6,
   "id": "484749ec",
   "metadata": {},
   "outputs": [
    {
     "name": "stdout",
     "output_type": "stream",
     "text": [
      "Help on method raw_input in module ipykernel.kernelbase:\n",
      "\n",
      "raw_input(prompt='') method of ipykernel.ipkernel.IPythonKernel instance\n",
      "    Forward raw_input to frontends\n",
      "    \n",
      "    Raises\n",
      "    ------\n",
      "    StdinNotImplementedError if active frontend doesn't support stdin.\n",
      "\n"
     ]
    }
   ],
   "source": [
    "help(input)"
   ]
  },
  {
   "cell_type": "code",
   "execution_count": null,
   "id": "aef0daf8",
   "metadata": {},
   "outputs": [],
   "source": []
  }
 ],
 "metadata": {
  "kernelspec": {
   "display_name": "Python 3 (ipykernel)",
   "language": "python",
   "name": "python3"
  },
  "language_info": {
   "codemirror_mode": {
    "name": "ipython",
    "version": 3
   },
   "file_extension": ".py",
   "mimetype": "text/x-python",
   "name": "python",
   "nbconvert_exporter": "python",
   "pygments_lexer": "ipython3",
   "version": "3.10.9"
  }
 },
 "nbformat": 4,
 "nbformat_minor": 5
}
